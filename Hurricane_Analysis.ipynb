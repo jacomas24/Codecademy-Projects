{
  "cells": [
    {
      "cell_type": "markdown",
      "metadata": {
        "id": "view-in-github",
        "colab_type": "text"
      },
      "source": [
        "<a href=\"https://colab.research.google.com/github/jacomas24/Codecademy-Projects/blob/main/Hurricane_Analysis.ipynb\" target=\"_parent\"><img src=\"https://colab.research.google.com/assets/colab-badge.svg\" alt=\"Open In Colab\"/></a>"
      ]
    },
    {
      "cell_type": "markdown",
      "id": "dbe5228d",
      "metadata": {
        "id": "dbe5228d"
      },
      "source": [
        "Names, months and years of hurricanes"
      ]
    },
    {
      "cell_type": "code",
      "execution_count": null,
      "id": "64993993",
      "metadata": {
        "id": "64993993"
      },
      "outputs": [],
      "source": [
        "names = ['Cuba I', 'San Felipe II Okeechobee', 'Bahamas', 'Cuba II', 'CubaBrownsville', 'Tampico', 'Labor Day', 'New England', \n",
        "         'Carol', 'Janet', 'Carla', 'Hattie', 'Beulah', 'Camille', 'Edith', 'Anita', 'David', 'Allen', 'Gilbert', 'Hugo', \n",
        "         'Andrew', 'Mitch', 'Isabel', 'Ivan', 'Emily', 'Katrina', 'Rita', 'Wilma', 'Dean', 'Felix', 'Matthew', 'Irma', \n",
        "         'Maria', 'Michael']"
      ]
    },
    {
      "cell_type": "code",
      "execution_count": null,
      "id": "e07828e3",
      "metadata": {
        "id": "e07828e3"
      },
      "outputs": [],
      "source": [
        "months = ['October', 'September', 'September', 'November', 'August', 'September', 'September', 'September', 'September', \n",
        "          'September', 'September', 'October', 'September', 'August', 'September', 'September', 'August', 'August', 'September',\n",
        "          'September', 'August', 'October', 'September', 'September', 'July', 'August', 'September', 'October', 'August', \n",
        "          'September', 'October', 'September', 'September', 'October']"
      ]
    },
    {
      "cell_type": "code",
      "execution_count": null,
      "id": "b6bd64a6",
      "metadata": {
        "id": "b6bd64a6"
      },
      "outputs": [],
      "source": [
        "years = [1924, 1928, 1932, 1932, 1933, 1933, 1935, 1938, 1953, 1955, 1961, 1961, 1967, 1969, 1971, 1977, 1979, 1980, 1988, 1989,\n",
        "         1992, 1998, 2003, 2004, 2005, 2005, 2005, 2005, 2007, 2007, 2016, 2017, 2017, 2018]"
      ]
    },
    {
      "cell_type": "markdown",
      "id": "6409aa74",
      "metadata": {
        "id": "6409aa74"
      },
      "source": [
        "Maximum sustained winds (mph) of hurricanes"
      ]
    },
    {
      "cell_type": "code",
      "execution_count": null,
      "id": "5a4c85eb",
      "metadata": {
        "id": "5a4c85eb"
      },
      "outputs": [],
      "source": [
        "max_sustained_winds = [165, 160, 160, 175, 160, 160, 185, 160, 160, 175, 175, 160, 160, 175, 160, 175, 175, 190, 185, 160, 175,\n",
        "                       180, 165, 165, 160, 175, 180, 185, 175, 175, 165, 180, 175, 160]"
      ]
    },
    {
      "cell_type": "markdown",
      "id": "a4477565",
      "metadata": {
        "id": "a4477565"
      },
      "source": [
        "Areas affected by each hurricane"
      ]
    },
    {
      "cell_type": "code",
      "execution_count": null,
      "id": "8896ebd5",
      "metadata": {
        "id": "8896ebd5"
      },
      "outputs": [],
      "source": [
        "areas_affected = [['Central America', 'Mexico', 'Cuba', 'Florida', 'The Bahamas'], \n",
        "                  ['Lesser Antilles', 'The Bahamas', 'United States East Coast', 'Atlantic Canada'], \n",
        "                  ['The Bahamas', 'Northeastern United States'], ['Lesser Antilles', 'Jamaica', 'Cayman Islands', 'Cuba', 'The Bahamas', 'Bermuda'],\n",
        "                  ['The Bahamas', 'Cuba', 'Florida', 'Texas', 'Tamaulipas'], ['Jamaica', 'Yucatn Peninsula'], \n",
        "                  ['The Bahamas', 'Florida', 'Georgia', 'The Carolinas', 'Virginia'], \n",
        "                  ['Southeastern United States', 'Northeastern United States', 'Southwestern Quebec'],\n",
        "                  ['Bermuda', 'New England', 'Atlantic Canada'], ['Lesser Antilles', 'Central America'], ['Texas', 'Louisiana', 'Midwestern United States'], \n",
        "                  ['Central America'], ['The Caribbean', 'Mexico', 'Texas'], ['Cuba', 'United States Gulf Coast'], \n",
        "                  ['The Caribbean', 'Central America', 'Mexico', 'United States Gulf Coast'], ['Mexico'], \n",
        "                  ['The Caribbean', 'United States East coast'], ['The Caribbean', 'Yucatn Peninsula', 'Mexico', 'South Texas'], \n",
        "                  ['Jamaica', 'Venezuela', 'Central America', 'Hispaniola', 'Mexico'], ['The Caribbean', 'United States East Coast'],\n",
        "                  ['The Bahamas', 'Florida', 'United States Gulf Coast'], ['Central America', 'Yucatn Peninsula', 'South Florida'], \n",
        "                  ['Greater Antilles', 'Bahamas', 'Eastern United States', 'Ontario'], ['The Caribbean', 'Venezuela', 'United States Gulf Coast'],\n",
        "                  ['Windward Islands', 'Jamaica', 'Mexico', 'Texas'], ['Bahamas', 'United States Gulf Coast'], ['Cuba', 'United States Gulf Coast'], \n",
        "                  ['Greater Antilles', 'Central America', 'Florida'], ['The Caribbean', 'Central America'], ['Nicaragua', 'Honduras'],\n",
        "                  ['Antilles', 'Venezuela', 'Colombia', 'United States East Coast', 'Atlantic Canada'], \n",
        "                  ['Cape Verde', 'The Caribbean', 'British Virgin Islands', 'U.S. Virgin Islands', 'Cuba', 'Florida'],\n",
        "                  ['Lesser Antilles', 'Virgin Islands', 'Puerto Rico', 'Dominican Republic', 'Turks and Caicos Islands'], \n",
        "                  ['Central America', 'United States Gulf Coast (especially Florida Panhandle)']]"
      ]
    },
    {
      "cell_type": "markdown",
      "id": "1d23b3f5",
      "metadata": {
        "id": "1d23b3f5"
      },
      "source": [
        "Damages caused in USD (M = millions, B= billions)"
      ]
    },
    {
      "cell_type": "code",
      "execution_count": null,
      "id": "614e7cd7",
      "metadata": {
        "id": "614e7cd7"
      },
      "outputs": [],
      "source": [
        "damages = ['Damages not recorded', '100M', 'Damages not recorded', '40M', '27.9M', '5M', 'Damages not recorded', '306M', '2M',\n",
        "           '65.8M', '326M', '60.3M', '208M', '1.42B', '25.4M', 'Damages not recorded', '1.54B', '1.24B', '7.1B', '10B', '26.5B',\n",
        "           '6.2B', '5.37B', '23.3B', '1.01B', '125B', '12B', '29.4B', '1.76B', '720M', '15.1B', '64.8B', '91.6B', '25.1B']"
      ]
    },
    {
      "cell_type": "markdown",
      "id": "b6480b05",
      "metadata": {
        "id": "b6480b05"
      },
      "source": [
        "Number of casualties"
      ]
    },
    {
      "cell_type": "code",
      "execution_count": null,
      "id": "a137baf9",
      "metadata": {
        "id": "a137baf9"
      },
      "outputs": [],
      "source": [
        "deaths = [90,4000,16,3103,179,184,408,682,5,1023,43,319,688,259,37,11,2068,269,318,107,65,19325,51,124,17,1836,125,87,45,133,\n",
        "          603,138,3057,74]"
      ]
    },
    {
      "cell_type": "markdown",
      "id": "11522028",
      "metadata": {
        "id": "11522028"
      },
      "source": [
        "Write a function that returns a new list of updated damages where the recorded data is converted to float values and the missing data is retained as \"Damages not recorded\"."
      ]
    },
    {
      "cell_type": "code",
      "execution_count": null,
      "id": "3fc3b408",
      "metadata": {
        "id": "3fc3b408"
      },
      "outputs": [],
      "source": [
        "def convert_damages(damages):\n",
        "\n",
        "    conversion = {\"M\": 1000000,\n",
        "              \"B\": 1000000000}\n",
        "\n",
        "    converted_damages = []\n",
        "\n",
        "    for value in damages:\n",
        "        if value == \"Damages not recorded\":\n",
        "            converted_damages.append(value)\n",
        "        if value[-1] == \"M\":\n",
        "            converted_damages.append(float(value.strip(\"M\")) * conversion[\"M\"])\n",
        "        if value[-1] == \"B\":\n",
        "            converted_damages.append(float(value.strip(\"B\")) * conversion[\"B\"])  \n",
        "\n",
        "    return(converted_damages)\n"
      ]
    },
    {
      "cell_type": "markdown",
      "id": "717d3c1f",
      "metadata": {
        "id": "717d3c1f"
      },
      "source": [
        "Test your function with the data stored in damages."
      ]
    },
    {
      "cell_type": "code",
      "execution_count": null,
      "id": "659e1bb5",
      "metadata": {
        "colab": {
          "base_uri": "https://localhost:8080/"
        },
        "id": "659e1bb5",
        "outputId": "0d2f7c8b-f51b-465e-d958-9117938064c5"
      },
      "outputs": [
        {
          "output_type": "stream",
          "name": "stdout",
          "text": [
            "['Damages not recorded', 100000000.0, 'Damages not recorded', 40000000.0, 27900000.0, 5000000.0, 'Damages not recorded', 306000000.0, 2000000.0, 65800000.0, 326000000.0, 60300000.0, 208000000.0, 1420000000.0, 25400000.0, 'Damages not recorded', 1540000000.0, 1240000000.0, 7100000000.0, 10000000000.0, 26500000000.0, 6200000000.0, 5370000000.0, 23300000000.0, 1010000000.0, 125000000000.0, 12000000000.0, 29400000000.0, 1760000000.0, 720000000.0, 15100000000.0, 64800000000.0, 91600000000.0, 25100000000.0]\n"
          ]
        }
      ],
      "source": [
        "updated_damages = convert_damages(damages)\n",
        "print(updated_damages)"
      ]
    },
    {
      "cell_type": "markdown",
      "id": "e84ab04d",
      "metadata": {
        "id": "e84ab04d"
      },
      "source": [
        "Write a function that constructs a dictionary made out of the lists, where the keys of the dictionary are the names of the hurricanes, and the values are dictionaries themselves containing a key for each piece of data about the hurricane."
      ]
    },
    {
      "cell_type": "code",
      "execution_count": null,
      "id": "9ee48e1a",
      "metadata": {
        "id": "9ee48e1a"
      },
      "outputs": [],
      "source": [
        "def create_dict(names, months, years, max_sustained_winds, areas_affected, updated_damages, deaths):\n",
        "\n",
        "    hurricanes = {}\n",
        "\n",
        "    for i in range(len(names)):\n",
        "        hurricanes[names[i]] = {\"Name\" : names[i],\n",
        "                                \"Month\" : months[i],\n",
        "                                \"Year\" : years[i],\n",
        "                                \"Max Sustained Wind\" : max_sustained_winds[i],\n",
        "                                \"Area Affected\" : areas_affected[i],\n",
        "                                \"Damage\" : updated_damages[i],\n",
        "                                \"Deaths\" : deaths[i]}\n",
        "  \n",
        "    return hurricanes"
      ]
    },
    {
      "cell_type": "markdown",
      "id": "d5789b6a",
      "metadata": {
        "id": "d5789b6a"
      },
      "source": [
        "Test your function on the lists of data provided."
      ]
    },
    {
      "cell_type": "code",
      "execution_count": null,
      "id": "79690857",
      "metadata": {
        "colab": {
          "base_uri": "https://localhost:8080/"
        },
        "id": "79690857",
        "outputId": "c1b7549a-65cd-4765-ad91-6b982e5ad027"
      },
      "outputs": [
        {
          "output_type": "stream",
          "name": "stdout",
          "text": [
            "{'Cuba I': {'Name': 'Cuba I', 'Month': 'October', 'Year': 1924, 'Max Sustained Wind': 165, 'Area Affected': ['Central America', 'Mexico', 'Cuba', 'Florida', 'The Bahamas'], 'Damage': 'Damages not recorded', 'Deaths': 90}, 'San Felipe II Okeechobee': {'Name': 'San Felipe II Okeechobee', 'Month': 'September', 'Year': 1928, 'Max Sustained Wind': 160, 'Area Affected': ['Lesser Antilles', 'The Bahamas', 'United States East Coast', 'Atlantic Canada'], 'Damage': 100000000.0, 'Deaths': 4000}, 'Bahamas': {'Name': 'Bahamas', 'Month': 'September', 'Year': 1932, 'Max Sustained Wind': 160, 'Area Affected': ['The Bahamas', 'Northeastern United States'], 'Damage': 'Damages not recorded', 'Deaths': 16}, 'Cuba II': {'Name': 'Cuba II', 'Month': 'November', 'Year': 1932, 'Max Sustained Wind': 175, 'Area Affected': ['Lesser Antilles', 'Jamaica', 'Cayman Islands', 'Cuba', 'The Bahamas', 'Bermuda'], 'Damage': 40000000.0, 'Deaths': 3103}, 'CubaBrownsville': {'Name': 'CubaBrownsville', 'Month': 'August', 'Year': 1933, 'Max Sustained Wind': 160, 'Area Affected': ['The Bahamas', 'Cuba', 'Florida', 'Texas', 'Tamaulipas'], 'Damage': 27900000.0, 'Deaths': 179}, 'Tampico': {'Name': 'Tampico', 'Month': 'September', 'Year': 1933, 'Max Sustained Wind': 160, 'Area Affected': ['Jamaica', 'Yucatn Peninsula'], 'Damage': 5000000.0, 'Deaths': 184}, 'Labor Day': {'Name': 'Labor Day', 'Month': 'September', 'Year': 1935, 'Max Sustained Wind': 185, 'Area Affected': ['The Bahamas', 'Florida', 'Georgia', 'The Carolinas', 'Virginia'], 'Damage': 'Damages not recorded', 'Deaths': 408}, 'New England': {'Name': 'New England', 'Month': 'September', 'Year': 1938, 'Max Sustained Wind': 160, 'Area Affected': ['Southeastern United States', 'Northeastern United States', 'Southwestern Quebec'], 'Damage': 306000000.0, 'Deaths': 682}, 'Carol': {'Name': 'Carol', 'Month': 'September', 'Year': 1953, 'Max Sustained Wind': 160, 'Area Affected': ['Bermuda', 'New England', 'Atlantic Canada'], 'Damage': 2000000.0, 'Deaths': 5}, 'Janet': {'Name': 'Janet', 'Month': 'September', 'Year': 1955, 'Max Sustained Wind': 175, 'Area Affected': ['Lesser Antilles', 'Central America'], 'Damage': 65800000.0, 'Deaths': 1023}, 'Carla': {'Name': 'Carla', 'Month': 'September', 'Year': 1961, 'Max Sustained Wind': 175, 'Area Affected': ['Texas', 'Louisiana', 'Midwestern United States'], 'Damage': 326000000.0, 'Deaths': 43}, 'Hattie': {'Name': 'Hattie', 'Month': 'October', 'Year': 1961, 'Max Sustained Wind': 160, 'Area Affected': ['Central America'], 'Damage': 60300000.0, 'Deaths': 319}, 'Beulah': {'Name': 'Beulah', 'Month': 'September', 'Year': 1967, 'Max Sustained Wind': 160, 'Area Affected': ['The Caribbean', 'Mexico', 'Texas'], 'Damage': 208000000.0, 'Deaths': 688}, 'Camille': {'Name': 'Camille', 'Month': 'August', 'Year': 1969, 'Max Sustained Wind': 175, 'Area Affected': ['Cuba', 'United States Gulf Coast'], 'Damage': 1420000000.0, 'Deaths': 259}, 'Edith': {'Name': 'Edith', 'Month': 'September', 'Year': 1971, 'Max Sustained Wind': 160, 'Area Affected': ['The Caribbean', 'Central America', 'Mexico', 'United States Gulf Coast'], 'Damage': 25400000.0, 'Deaths': 37}, 'Anita': {'Name': 'Anita', 'Month': 'September', 'Year': 1977, 'Max Sustained Wind': 175, 'Area Affected': ['Mexico'], 'Damage': 'Damages not recorded', 'Deaths': 11}, 'David': {'Name': 'David', 'Month': 'August', 'Year': 1979, 'Max Sustained Wind': 175, 'Area Affected': ['The Caribbean', 'United States East coast'], 'Damage': 1540000000.0, 'Deaths': 2068}, 'Allen': {'Name': 'Allen', 'Month': 'August', 'Year': 1980, 'Max Sustained Wind': 190, 'Area Affected': ['The Caribbean', 'Yucatn Peninsula', 'Mexico', 'South Texas'], 'Damage': 1240000000.0, 'Deaths': 269}, 'Gilbert': {'Name': 'Gilbert', 'Month': 'September', 'Year': 1988, 'Max Sustained Wind': 185, 'Area Affected': ['Jamaica', 'Venezuela', 'Central America', 'Hispaniola', 'Mexico'], 'Damage': 7100000000.0, 'Deaths': 318}, 'Hugo': {'Name': 'Hugo', 'Month': 'September', 'Year': 1989, 'Max Sustained Wind': 160, 'Area Affected': ['The Caribbean', 'United States East Coast'], 'Damage': 10000000000.0, 'Deaths': 107}, 'Andrew': {'Name': 'Andrew', 'Month': 'August', 'Year': 1992, 'Max Sustained Wind': 175, 'Area Affected': ['The Bahamas', 'Florida', 'United States Gulf Coast'], 'Damage': 26500000000.0, 'Deaths': 65}, 'Mitch': {'Name': 'Mitch', 'Month': 'October', 'Year': 1998, 'Max Sustained Wind': 180, 'Area Affected': ['Central America', 'Yucatn Peninsula', 'South Florida'], 'Damage': 6200000000.0, 'Deaths': 19325}, 'Isabel': {'Name': 'Isabel', 'Month': 'September', 'Year': 2003, 'Max Sustained Wind': 165, 'Area Affected': ['Greater Antilles', 'Bahamas', 'Eastern United States', 'Ontario'], 'Damage': 5370000000.0, 'Deaths': 51}, 'Ivan': {'Name': 'Ivan', 'Month': 'September', 'Year': 2004, 'Max Sustained Wind': 165, 'Area Affected': ['The Caribbean', 'Venezuela', 'United States Gulf Coast'], 'Damage': 23300000000.0, 'Deaths': 124}, 'Emily': {'Name': 'Emily', 'Month': 'July', 'Year': 2005, 'Max Sustained Wind': 160, 'Area Affected': ['Windward Islands', 'Jamaica', 'Mexico', 'Texas'], 'Damage': 1010000000.0, 'Deaths': 17}, 'Katrina': {'Name': 'Katrina', 'Month': 'August', 'Year': 2005, 'Max Sustained Wind': 175, 'Area Affected': ['Bahamas', 'United States Gulf Coast'], 'Damage': 125000000000.0, 'Deaths': 1836}, 'Rita': {'Name': 'Rita', 'Month': 'September', 'Year': 2005, 'Max Sustained Wind': 180, 'Area Affected': ['Cuba', 'United States Gulf Coast'], 'Damage': 12000000000.0, 'Deaths': 125}, 'Wilma': {'Name': 'Wilma', 'Month': 'October', 'Year': 2005, 'Max Sustained Wind': 185, 'Area Affected': ['Greater Antilles', 'Central America', 'Florida'], 'Damage': 29400000000.0, 'Deaths': 87}, 'Dean': {'Name': 'Dean', 'Month': 'August', 'Year': 2007, 'Max Sustained Wind': 175, 'Area Affected': ['The Caribbean', 'Central America'], 'Damage': 1760000000.0, 'Deaths': 45}, 'Felix': {'Name': 'Felix', 'Month': 'September', 'Year': 2007, 'Max Sustained Wind': 175, 'Area Affected': ['Nicaragua', 'Honduras'], 'Damage': 720000000.0, 'Deaths': 133}, 'Matthew': {'Name': 'Matthew', 'Month': 'October', 'Year': 2016, 'Max Sustained Wind': 165, 'Area Affected': ['Antilles', 'Venezuela', 'Colombia', 'United States East Coast', 'Atlantic Canada'], 'Damage': 15100000000.0, 'Deaths': 603}, 'Irma': {'Name': 'Irma', 'Month': 'September', 'Year': 2017, 'Max Sustained Wind': 180, 'Area Affected': ['Cape Verde', 'The Caribbean', 'British Virgin Islands', 'U.S. Virgin Islands', 'Cuba', 'Florida'], 'Damage': 64800000000.0, 'Deaths': 138}, 'Maria': {'Name': 'Maria', 'Month': 'September', 'Year': 2017, 'Max Sustained Wind': 175, 'Area Affected': ['Lesser Antilles', 'Virgin Islands', 'Puerto Rico', 'Dominican Republic', 'Turks and Caicos Islands'], 'Damage': 91600000000.0, 'Deaths': 3057}, 'Michael': {'Name': 'Michael', 'Month': 'October', 'Year': 2018, 'Max Sustained Wind': 160, 'Area Affected': ['Central America', 'United States Gulf Coast (especially Florida Panhandle)'], 'Damage': 25100000000.0, 'Deaths': 74}}\n"
          ]
        }
      ],
      "source": [
        "hurr_dict = create_dict(names, months, years, max_sustained_winds, areas_affected, updated_damages, deaths)\n",
        "print(hurr_dict)"
      ]
    },
    {
      "cell_type": "markdown",
      "id": "8887bd2b",
      "metadata": {
        "id": "8887bd2b"
      },
      "source": [
        "Write a function that converts the current dictionary of hurricanes to a new dictionary, where the keys are years and the values are lists containing a dictionary for each hurricane that occurred in that year."
      ]
    },
    {
      "cell_type": "code",
      "execution_count": null,
      "id": "3898c96a",
      "metadata": {
        "id": "3898c96a"
      },
      "outputs": [],
      "source": [
        "def create_dict_year(hurr_dict):\n",
        "    \n",
        "    new_dict = {}\n",
        "  \n",
        "    for i in hurr_dict:\n",
        "        current_year = hurr_dict[i][\"Year\"]\n",
        "        current_cane = hurr_dict[i]\n",
        "        if current_year in new_dict:\n",
        "            new_dict[current_year].append(current_cane)\n",
        "        else:\n",
        "            new_dict[current_year] = [current_cane]\n",
        "  \n",
        "    return new_dict"
      ]
    },
    {
      "cell_type": "markdown",
      "id": "be033752",
      "metadata": {
        "id": "be033752"
      },
      "source": [
        "Test your function on your hurricane dictionary."
      ]
    },
    {
      "cell_type": "code",
      "execution_count": null,
      "id": "ca5aa911",
      "metadata": {
        "colab": {
          "base_uri": "https://localhost:8080/"
        },
        "id": "ca5aa911",
        "outputId": "9b969c4c-5325-4f46-ff35-0a55f925a1d5"
      },
      "outputs": [
        {
          "output_type": "stream",
          "name": "stdout",
          "text": [
            "{1924: [{'Name': 'Cuba I', 'Month': 'October', 'Year': 1924, 'Max Sustained Wind': 165, 'Area Affected': ['Central America', 'Mexico', 'Cuba', 'Florida', 'The Bahamas'], 'Damage': 'Damages not recorded', 'Deaths': 90}], 1928: [{'Name': 'San Felipe II Okeechobee', 'Month': 'September', 'Year': 1928, 'Max Sustained Wind': 160, 'Area Affected': ['Lesser Antilles', 'The Bahamas', 'United States East Coast', 'Atlantic Canada'], 'Damage': 100000000.0, 'Deaths': 4000}], 1932: [{'Name': 'Bahamas', 'Month': 'September', 'Year': 1932, 'Max Sustained Wind': 160, 'Area Affected': ['The Bahamas', 'Northeastern United States'], 'Damage': 'Damages not recorded', 'Deaths': 16}, {'Name': 'Cuba II', 'Month': 'November', 'Year': 1932, 'Max Sustained Wind': 175, 'Area Affected': ['Lesser Antilles', 'Jamaica', 'Cayman Islands', 'Cuba', 'The Bahamas', 'Bermuda'], 'Damage': 40000000.0, 'Deaths': 3103}], 1933: [{'Name': 'CubaBrownsville', 'Month': 'August', 'Year': 1933, 'Max Sustained Wind': 160, 'Area Affected': ['The Bahamas', 'Cuba', 'Florida', 'Texas', 'Tamaulipas'], 'Damage': 27900000.0, 'Deaths': 179}, {'Name': 'Tampico', 'Month': 'September', 'Year': 1933, 'Max Sustained Wind': 160, 'Area Affected': ['Jamaica', 'Yucatn Peninsula'], 'Damage': 5000000.0, 'Deaths': 184}], 1935: [{'Name': 'Labor Day', 'Month': 'September', 'Year': 1935, 'Max Sustained Wind': 185, 'Area Affected': ['The Bahamas', 'Florida', 'Georgia', 'The Carolinas', 'Virginia'], 'Damage': 'Damages not recorded', 'Deaths': 408}], 1938: [{'Name': 'New England', 'Month': 'September', 'Year': 1938, 'Max Sustained Wind': 160, 'Area Affected': ['Southeastern United States', 'Northeastern United States', 'Southwestern Quebec'], 'Damage': 306000000.0, 'Deaths': 682}], 1953: [{'Name': 'Carol', 'Month': 'September', 'Year': 1953, 'Max Sustained Wind': 160, 'Area Affected': ['Bermuda', 'New England', 'Atlantic Canada'], 'Damage': 2000000.0, 'Deaths': 5}], 1955: [{'Name': 'Janet', 'Month': 'September', 'Year': 1955, 'Max Sustained Wind': 175, 'Area Affected': ['Lesser Antilles', 'Central America'], 'Damage': 65800000.0, 'Deaths': 1023}], 1961: [{'Name': 'Carla', 'Month': 'September', 'Year': 1961, 'Max Sustained Wind': 175, 'Area Affected': ['Texas', 'Louisiana', 'Midwestern United States'], 'Damage': 326000000.0, 'Deaths': 43}, {'Name': 'Hattie', 'Month': 'October', 'Year': 1961, 'Max Sustained Wind': 160, 'Area Affected': ['Central America'], 'Damage': 60300000.0, 'Deaths': 319}], 1967: [{'Name': 'Beulah', 'Month': 'September', 'Year': 1967, 'Max Sustained Wind': 160, 'Area Affected': ['The Caribbean', 'Mexico', 'Texas'], 'Damage': 208000000.0, 'Deaths': 688}], 1969: [{'Name': 'Camille', 'Month': 'August', 'Year': 1969, 'Max Sustained Wind': 175, 'Area Affected': ['Cuba', 'United States Gulf Coast'], 'Damage': 1420000000.0, 'Deaths': 259}], 1971: [{'Name': 'Edith', 'Month': 'September', 'Year': 1971, 'Max Sustained Wind': 160, 'Area Affected': ['The Caribbean', 'Central America', 'Mexico', 'United States Gulf Coast'], 'Damage': 25400000.0, 'Deaths': 37}], 1977: [{'Name': 'Anita', 'Month': 'September', 'Year': 1977, 'Max Sustained Wind': 175, 'Area Affected': ['Mexico'], 'Damage': 'Damages not recorded', 'Deaths': 11}], 1979: [{'Name': 'David', 'Month': 'August', 'Year': 1979, 'Max Sustained Wind': 175, 'Area Affected': ['The Caribbean', 'United States East coast'], 'Damage': 1540000000.0, 'Deaths': 2068}], 1980: [{'Name': 'Allen', 'Month': 'August', 'Year': 1980, 'Max Sustained Wind': 190, 'Area Affected': ['The Caribbean', 'Yucatn Peninsula', 'Mexico', 'South Texas'], 'Damage': 1240000000.0, 'Deaths': 269}], 1988: [{'Name': 'Gilbert', 'Month': 'September', 'Year': 1988, 'Max Sustained Wind': 185, 'Area Affected': ['Jamaica', 'Venezuela', 'Central America', 'Hispaniola', 'Mexico'], 'Damage': 7100000000.0, 'Deaths': 318}], 1989: [{'Name': 'Hugo', 'Month': 'September', 'Year': 1989, 'Max Sustained Wind': 160, 'Area Affected': ['The Caribbean', 'United States East Coast'], 'Damage': 10000000000.0, 'Deaths': 107}], 1992: [{'Name': 'Andrew', 'Month': 'August', 'Year': 1992, 'Max Sustained Wind': 175, 'Area Affected': ['The Bahamas', 'Florida', 'United States Gulf Coast'], 'Damage': 26500000000.0, 'Deaths': 65}], 1998: [{'Name': 'Mitch', 'Month': 'October', 'Year': 1998, 'Max Sustained Wind': 180, 'Area Affected': ['Central America', 'Yucatn Peninsula', 'South Florida'], 'Damage': 6200000000.0, 'Deaths': 19325}], 2003: [{'Name': 'Isabel', 'Month': 'September', 'Year': 2003, 'Max Sustained Wind': 165, 'Area Affected': ['Greater Antilles', 'Bahamas', 'Eastern United States', 'Ontario'], 'Damage': 5370000000.0, 'Deaths': 51}], 2004: [{'Name': 'Ivan', 'Month': 'September', 'Year': 2004, 'Max Sustained Wind': 165, 'Area Affected': ['The Caribbean', 'Venezuela', 'United States Gulf Coast'], 'Damage': 23300000000.0, 'Deaths': 124}], 2005: [{'Name': 'Emily', 'Month': 'July', 'Year': 2005, 'Max Sustained Wind': 160, 'Area Affected': ['Windward Islands', 'Jamaica', 'Mexico', 'Texas'], 'Damage': 1010000000.0, 'Deaths': 17}, {'Name': 'Katrina', 'Month': 'August', 'Year': 2005, 'Max Sustained Wind': 175, 'Area Affected': ['Bahamas', 'United States Gulf Coast'], 'Damage': 125000000000.0, 'Deaths': 1836}, {'Name': 'Rita', 'Month': 'September', 'Year': 2005, 'Max Sustained Wind': 180, 'Area Affected': ['Cuba', 'United States Gulf Coast'], 'Damage': 12000000000.0, 'Deaths': 125}, {'Name': 'Wilma', 'Month': 'October', 'Year': 2005, 'Max Sustained Wind': 185, 'Area Affected': ['Greater Antilles', 'Central America', 'Florida'], 'Damage': 29400000000.0, 'Deaths': 87}], 2007: [{'Name': 'Dean', 'Month': 'August', 'Year': 2007, 'Max Sustained Wind': 175, 'Area Affected': ['The Caribbean', 'Central America'], 'Damage': 1760000000.0, 'Deaths': 45}, {'Name': 'Felix', 'Month': 'September', 'Year': 2007, 'Max Sustained Wind': 175, 'Area Affected': ['Nicaragua', 'Honduras'], 'Damage': 720000000.0, 'Deaths': 133}], 2016: [{'Name': 'Matthew', 'Month': 'October', 'Year': 2016, 'Max Sustained Wind': 165, 'Area Affected': ['Antilles', 'Venezuela', 'Colombia', 'United States East Coast', 'Atlantic Canada'], 'Damage': 15100000000.0, 'Deaths': 603}], 2017: [{'Name': 'Irma', 'Month': 'September', 'Year': 2017, 'Max Sustained Wind': 180, 'Area Affected': ['Cape Verde', 'The Caribbean', 'British Virgin Islands', 'U.S. Virgin Islands', 'Cuba', 'Florida'], 'Damage': 64800000000.0, 'Deaths': 138}, {'Name': 'Maria', 'Month': 'September', 'Year': 2017, 'Max Sustained Wind': 175, 'Area Affected': ['Lesser Antilles', 'Virgin Islands', 'Puerto Rico', 'Dominican Republic', 'Turks and Caicos Islands'], 'Damage': 91600000000.0, 'Deaths': 3057}], 2018: [{'Name': 'Michael', 'Month': 'October', 'Year': 2018, 'Max Sustained Wind': 160, 'Area Affected': ['Central America', 'United States Gulf Coast (especially Florida Panhandle)'], 'Damage': 25100000000.0, 'Deaths': 74}]}\n"
          ]
        }
      ],
      "source": [
        "print(create_dict_year(hurr_dict))"
      ]
    },
    {
      "cell_type": "markdown",
      "id": "8aacbc87",
      "metadata": {
        "id": "8aacbc87"
      },
      "source": [
        "Write a function that counts how often each area is listed as an affected area of a hurricane. Store and return the results in a dictionary where the keys are the affected areas and the values are counts of how many times the areas were affected."
      ]
    },
    {
      "cell_type": "code",
      "execution_count": null,
      "id": "5669aa68",
      "metadata": {
        "id": "5669aa68"
      },
      "outputs": [],
      "source": [
        "def count_areas(hurr_dict):\n",
        "   \n",
        "    area_dict = {}\n",
        "  \n",
        "    for hurricane in hurr_dict:\n",
        "        for area in hurr_dict[hurricane][\"Area Affected\"]:\n",
        "            if area in area_dict:\n",
        "                count = count + 1\n",
        "                area_dict[area] = count\n",
        "            else:\n",
        "                count = 1\n",
        "                area_dict[area] = count\n",
        "        \n",
        "    return area_dict"
      ]
    },
    {
      "cell_type": "markdown",
      "id": "b89cb100",
      "metadata": {
        "id": "b89cb100"
      },
      "source": [
        "Test your function on your hurricane dictionary."
      ]
    },
    {
      "cell_type": "code",
      "execution_count": null,
      "id": "131a9b71",
      "metadata": {
        "colab": {
          "base_uri": "https://localhost:8080/"
        },
        "id": "131a9b71",
        "outputId": "440b5f46-1c50-4b63-b696-90f79d648fef"
      },
      "outputs": [
        {
          "output_type": "stream",
          "name": "stdout",
          "text": [
            "{'Central America': 2, 'Mexico': 3, 'Cuba': 2, 'Florida': 3, 'The Bahamas': 5, 'Lesser Antilles': 4, 'United States East Coast': 2, 'Atlantic Canada': 3, 'Northeastern United States': 2, 'Jamaica': 2, 'Cayman Islands': 1, 'Bermuda': 2, 'Texas': 4, 'Tamaulipas': 1, 'Yucatn Peninsula': 9, 'Georgia': 1, 'The Carolinas': 1, 'Virginia': 1, 'Southeastern United States': 1, 'Southwestern Quebec': 1, 'New England': 1, 'Louisiana': 1, 'Midwestern United States': 1, 'The Caribbean': 2, 'United States Gulf Coast': 8, 'United States East coast': 1, 'South Texas': 1, 'Venezuela': 2, 'Hispaniola': 1, 'South Florida': 1, 'Greater Antilles': 9, 'Bahamas': 5, 'Eastern United States': 1, 'Ontario': 1, 'Windward Islands': 1, 'Nicaragua': 1, 'Honduras': 1, 'Antilles': 1, 'Colombia': 1, 'Cape Verde': 1, 'British Virgin Islands': 1, 'U.S. Virgin Islands': 1, 'Virgin Islands': 1, 'Puerto Rico': 1, 'Dominican Republic': 1, 'Turks and Caicos Islands': 1, 'United States Gulf Coast (especially Florida Panhandle)': 1}\n"
          ]
        }
      ],
      "source": [
        "affected_areas = count_areas(hurr_dict)\n",
        "print(count_areas(hurr_dict))"
      ]
    },
    {
      "cell_type": "markdown",
      "id": "3b2b4602",
      "metadata": {
        "id": "3b2b4602"
      },
      "source": [
        "Write a function that finds the area affected by the most hurricanes, and how often it was hit."
      ]
    },
    {
      "cell_type": "code",
      "execution_count": null,
      "id": "c26539d3",
      "metadata": {
        "id": "c26539d3"
      },
      "outputs": [],
      "source": [
        "def find_most_affected_area(affected_areas):\n",
        "  \n",
        "    max_area = \"\"\n",
        "    max_area_count = 0\n",
        "  \n",
        "    for area in affected_areas:\n",
        "        if affected_areas[area] > max_area_count:\n",
        "            max_area = area\n",
        "            max_area_count = affected_areas[area]\n",
        "  \n",
        "    return \"The most affected area is {} which was hit {} times\".format(max_area, max_area_count)"
      ]
    },
    {
      "cell_type": "markdown",
      "id": "dad166c7",
      "metadata": {
        "id": "dad166c7"
      },
      "source": [
        "Test your function on your affected area dictionary."
      ]
    },
    {
      "cell_type": "code",
      "execution_count": null,
      "id": "7ba4ffdc",
      "metadata": {
        "colab": {
          "base_uri": "https://localhost:8080/"
        },
        "id": "7ba4ffdc",
        "outputId": "2fa146e8-2e63-4afe-af18-8ffebf3ca7db"
      },
      "outputs": [
        {
          "output_type": "stream",
          "name": "stdout",
          "text": [
            "The most affected area is Yucatn Peninsula which was hit 9 times\n"
          ]
        }
      ],
      "source": [
        "print(find_most_affected_area(affected_areas))"
      ]
    },
    {
      "cell_type": "markdown",
      "id": "6b7265ef",
      "metadata": {
        "id": "6b7265ef"
      },
      "source": [
        "Write a function that finds the hurricane that caused the greatest number of deaths, and how many deaths it caused."
      ]
    },
    {
      "cell_type": "code",
      "execution_count": null,
      "id": "689f609e",
      "metadata": {
        "id": "689f609e"
      },
      "outputs": [],
      "source": [
        "def find_deadliest_hurr(hurr_dict):\n",
        "    \n",
        "    max_mortality_cane = \"\"\n",
        "    max_mortality = 0.0\n",
        "    \n",
        "    for hurricane in hurr_dict:\n",
        "        if hurr_dict[hurricane][\"Deaths\"] > max_mortality:\n",
        "            max_mortality_cane = hurricane\n",
        "            max_mortality = hurr_dict[hurricane][\"Deaths\"]\n",
        "    \n",
        "    return \"The deadliest hurricane is {} which caused {} casualties\".format(max_mortality_cane, max_mortality)"
      ]
    },
    {
      "cell_type": "markdown",
      "id": "c304a734",
      "metadata": {
        "id": "c304a734"
      },
      "source": [
        "Test your function on your hurricane dictionary."
      ]
    },
    {
      "cell_type": "code",
      "execution_count": null,
      "id": "8f623abf",
      "metadata": {
        "colab": {
          "base_uri": "https://localhost:8080/"
        },
        "id": "8f623abf",
        "outputId": "cf44a534-128c-4645-8639-55010b79c013"
      },
      "outputs": [
        {
          "output_type": "stream",
          "name": "stdout",
          "text": [
            "The deadliest hurricane is Mitch which caused 19325 casualties\n"
          ]
        }
      ],
      "source": [
        "print(find_deadliest_hurr(hurr_dict))"
      ]
    },
    {
      "cell_type": "markdown",
      "id": "45c778c7",
      "metadata": {
        "id": "45c778c7"
      },
      "source": [
        "Write a function that rates hurricanes on a mortality scale according to the following ratings, where the key is the rating and the value is the upper bound of deaths for that rating.\n",
        "\n",
        "mortality_scale = {0: 0,\n",
        "                   1: 100,\n",
        "                   2: 500,\n",
        "                   3: 1000,\n",
        "                   4: 10000}\n",
        "                   \n",
        "Store the hurricanes in a new dictionary where the keys are mortality ratings and the values are lists containing a dictionary for each hurricane that falls into that mortality rating."
      ]
    },
    {
      "cell_type": "code",
      "execution_count": null,
      "id": "a46e4b5f",
      "metadata": {
        "id": "a46e4b5f"
      },
      "outputs": [],
      "source": [
        "def mortality_rating(hurr_dict):\n",
        "  \n",
        "    hurricanes_by_mortality = {0:[],1:[],2:[],3:[],4:[],5:[]}\n",
        "    \n",
        "    mortality_scale = {0: 0,\n",
        "                   1: 100,\n",
        "                   2: 500,\n",
        "                   3: 1000,\n",
        "                   4: 10000}\n",
        "  \n",
        "    for hurricane in hurr_dict:\n",
        "        casualties = hurr_dict[hurricane][\"Deaths\"]\n",
        "        if casualties == mortality_scale[0]:\n",
        "            hurricanes_by_mortality[0].append(hurricane)\n",
        "        elif mortality_scale[0] < casualties <= mortality_scale[1]:\n",
        "            hurricanes_by_mortality[1].append(hurricane)\n",
        "        elif mortality_scale[1] < casualties <= mortality_scale[2]:\n",
        "            hurricanes_by_mortality[2].append(hurricane)\n",
        "        elif mortality_scale[2] < casualties <= mortality_scale[3]:\n",
        "            hurricanes_by_mortality[3].append(hurricane)\n",
        "        elif mortality_scale[3] < casualties <= mortality_scale[4]:\n",
        "            hurricanes_by_mortality[4].append(hurricane)\n",
        "        else:\n",
        "            hurricanes_by_mortality[5].append(hurricane)\n",
        "  \n",
        "    return hurricanes_by_mortality"
      ]
    },
    {
      "cell_type": "markdown",
      "id": "02c47e8f",
      "metadata": {
        "id": "02c47e8f"
      },
      "source": [
        "Test your function on your hurricane dictionary."
      ]
    },
    {
      "cell_type": "code",
      "execution_count": null,
      "id": "e9496e2f",
      "metadata": {
        "colab": {
          "base_uri": "https://localhost:8080/"
        },
        "id": "e9496e2f",
        "outputId": "11d91f79-1608-45bb-e13b-f7258e71c106"
      },
      "outputs": [
        {
          "output_type": "stream",
          "name": "stdout",
          "text": [
            "{0: [], 1: ['Cuba I', 'Bahamas', 'Carol', 'Carla', 'Edith', 'Anita', 'Andrew', 'Isabel', 'Emily', 'Wilma', 'Dean', 'Michael'], 2: ['CubaBrownsville', 'Tampico', 'Labor Day', 'Hattie', 'Camille', 'Allen', 'Gilbert', 'Hugo', 'Ivan', 'Rita', 'Felix', 'Irma'], 3: ['New England', 'Beulah', 'Matthew'], 4: ['San Felipe II Okeechobee', 'Cuba II', 'Janet', 'David', 'Katrina', 'Maria'], 5: ['Mitch']}\n"
          ]
        }
      ],
      "source": [
        "print(mortality_rating(hurr_dict))"
      ]
    },
    {
      "cell_type": "markdown",
      "id": "f9939534",
      "metadata": {
        "id": "f9939534"
      },
      "source": [
        "Write a function that finds the hurricane that caused the greatest damage, and how costly it was."
      ]
    },
    {
      "cell_type": "code",
      "execution_count": null,
      "id": "6bf35b16",
      "metadata": {
        "id": "6bf35b16"
      },
      "outputs": [],
      "source": [
        "def max_damage(hurr_dict):\n",
        "  \n",
        "    max_damage_cane = \"\"\n",
        "    max_damage = 0\n",
        "    \n",
        "    for hurricane in hurr_dict:\n",
        "        if hurr_dict[hurricane][\"Damage\"] == \"Damages not recorded\":\n",
        "            continue\n",
        "        elif hurr_dict[hurricane][\"Damage\"] > max_damage:\n",
        "            max_damage_cane = hurricane\n",
        "            max_damage = hurr_dict[hurricane][\"Damage\"]\n",
        "  \n",
        "    return \"The most devastating hurricane is {} which caused damage for {} dollars\".format(max_damage_cane, max_damage)\n"
      ]
    },
    {
      "cell_type": "markdown",
      "id": "fabfa8db",
      "metadata": {
        "id": "fabfa8db"
      },
      "source": [
        "Test your function on your hurricane dictionary."
      ]
    },
    {
      "cell_type": "code",
      "execution_count": null,
      "id": "d92e0a88",
      "metadata": {
        "colab": {
          "base_uri": "https://localhost:8080/"
        },
        "id": "d92e0a88",
        "outputId": "ddef3f7f-f797-4239-aad1-eb5532a11a6a"
      },
      "outputs": [
        {
          "output_type": "stream",
          "name": "stdout",
          "text": [
            "The most devastating hurricane is Katrina which caused damage for 125000000000.0 dollars\n"
          ]
        }
      ],
      "source": [
        "print(max_damage(hurr_dict))"
      ]
    },
    {
      "cell_type": "markdown",
      "id": "2fc1d514",
      "metadata": {
        "id": "2fc1d514"
      },
      "source": [
        "Write a function that rates hurricanes on a damage scale according to the following ratings, where the key is the rating and the value is the upper bound of damage for that rating.\n",
        "\n",
        "damage_scale = {0: 0,\n",
        "                1: 100000000,\n",
        "                2: 1000000000,\n",
        "                3: 10000000000,\n",
        "                4: 50000000000}\n",
        "                \n",
        "Store the hurricanes in a new dictionary where the keys are damage ratings and the values are lists containing a dictionary for each hurricane that falls into that damage rating."
      ]
    },
    {
      "cell_type": "code",
      "execution_count": null,
      "id": "a7598b2e",
      "metadata": {
        "id": "a7598b2e"
      },
      "outputs": [],
      "source": [
        "def damage_rating(hurr_dict):\n",
        "  \n",
        "    hurricanes_by_damage = {0:[],1:[],2:[],3:[],4:[],5:[]}\n",
        "    damage_scale = {0: 0,\n",
        "                1: 100000000,\n",
        "                2: 1000000000,\n",
        "                3: 10000000000,\n",
        "                4: 50000000000}\n",
        "  \n",
        "    for hurricane in hurr_dict:\n",
        "        damage = hurr_dict[hurricane][\"Damage\"]\n",
        "        if damage == \"Damages not recorded\":\n",
        "            continue\n",
        "        elif damage == damage_scale[0]:\n",
        "            hurricanes_by_damage[0].append(hurricane)\n",
        "        elif damage_scale[0] < damage <= damage_scale[1]:\n",
        "            hurricanes_by_damage[1].append(hurricane)\n",
        "        elif damage_scale[1] < damage <= damage_scale[2]:\n",
        "            hurricanes_by_damage[2].append(hurricane)\n",
        "        elif damage_scale[2] < damage <= damage_scale[3]:\n",
        "            hurricanes_by_damage[3].append(hurricane)\n",
        "        elif damage_scale[3] < damage <= damage_scale[4]:\n",
        "            hurricanes_by_damage[4].append(hurricane)\n",
        "        else:\n",
        "            hurricanes_by_damage[5].append(hurricane)\n",
        "  \n",
        "    return hurricanes_by_damage"
      ]
    },
    {
      "cell_type": "markdown",
      "id": "9fe0cf73",
      "metadata": {
        "id": "9fe0cf73"
      },
      "source": [
        "Test your function on your hurricane dictionary."
      ]
    },
    {
      "cell_type": "code",
      "execution_count": null,
      "id": "5c770f1d",
      "metadata": {
        "colab": {
          "base_uri": "https://localhost:8080/"
        },
        "id": "5c770f1d",
        "outputId": "00cbd1a7-8814-418d-bc5c-049b3c726866"
      },
      "outputs": [
        {
          "output_type": "stream",
          "name": "stdout",
          "text": [
            "{0: [], 1: ['San Felipe II Okeechobee', 'Cuba II', 'CubaBrownsville', 'Tampico', 'Carol', 'Janet', 'Hattie', 'Edith'], 2: ['New England', 'Carla', 'Beulah', 'Felix'], 3: ['Camille', 'David', 'Allen', 'Gilbert', 'Hugo', 'Mitch', 'Isabel', 'Emily', 'Dean'], 4: ['Andrew', 'Ivan', 'Rita', 'Wilma', 'Matthew', 'Michael'], 5: ['Katrina', 'Irma', 'Maria']}\n"
          ]
        }
      ],
      "source": [
        "print(damage_rating(hurr_dict))"
      ]
    }
  ],
  "metadata": {
    "celltoolbar": "Raw Cell Format",
    "kernelspec": {
      "display_name": "Python 3 (ipykernel)",
      "language": "python",
      "name": "python3"
    },
    "language_info": {
      "codemirror_mode": {
        "name": "ipython",
        "version": 3
      },
      "file_extension": ".py",
      "mimetype": "text/x-python",
      "name": "python",
      "nbconvert_exporter": "python",
      "pygments_lexer": "ipython3",
      "version": "3.9.7"
    },
    "colab": {
      "name": "Hurricane Analysis.ipynb",
      "provenance": [],
      "include_colab_link": true
    }
  },
  "nbformat": 4,
  "nbformat_minor": 5
}