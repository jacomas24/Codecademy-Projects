{
 "cells": [
  {
   "cell_type": "markdown",
   "id": "dbe5228d",
   "metadata": {},
   "source": [
    "Names, months and years of hurricanes"
   ]
  },
  {
   "cell_type": "code",
   "execution_count": null,
   "id": "64993993",
   "metadata": {},
   "outputs": [],
   "source": [
    "names = ['Cuba I', 'San Felipe II Okeechobee', 'Bahamas', 'Cuba II', 'CubaBrownsville', 'Tampico', 'Labor Day', 'New England', \n",
    "         'Carol', 'Janet', 'Carla', 'Hattie', 'Beulah', 'Camille', 'Edith', 'Anita', 'David', 'Allen', 'Gilbert', 'Hugo', \n",
    "         'Andrew', 'Mitch', 'Isabel', 'Ivan', 'Emily', 'Katrina', 'Rita', 'Wilma', 'Dean', 'Felix', 'Matthew', 'Irma', \n",
    "         'Maria', 'Michael']"
   ]
  },
  {
   "cell_type": "code",
   "execution_count": null,
   "id": "e07828e3",
   "metadata": {},
   "outputs": [],
   "source": [
    "months = ['October', 'September', 'September', 'November', 'August', 'September', 'September', 'September', 'September', \n",
    "          'September', 'September', 'October', 'September', 'August', 'September', 'September', 'August', 'August', 'September',\n",
    "          'September', 'August', 'October', 'September', 'September', 'July', 'August', 'September', 'October', 'August', \n",
    "          'September', 'October', 'September', 'September', 'October']"
   ]
  },
  {
   "cell_type": "code",
   "execution_count": null,
   "id": "b6bd64a6",
   "metadata": {},
   "outputs": [],
   "source": [
    "years = [1924, 1928, 1932, 1932, 1933, 1933, 1935, 1938, 1953, 1955, 1961, 1961, 1967, 1969, 1971, 1977, 1979, 1980, 1988, 1989,\n",
    "         1992, 1998, 2003, 2004, 2005, 2005, 2005, 2005, 2007, 2007, 2016, 2017, 2017, 2018]"
   ]
  },
  {
   "cell_type": "markdown",
   "id": "6409aa74",
   "metadata": {},
   "source": [
    "Maximum sustained winds (mph) of hurricanes"
   ]
  },
  {
   "cell_type": "code",
   "execution_count": null,
   "id": "5a4c85eb",
   "metadata": {},
   "outputs": [],
   "source": [
    "max_sustained_winds = [165, 160, 160, 175, 160, 160, 185, 160, 160, 175, 175, 160, 160, 175, 160, 175, 175, 190, 185, 160, 175,\n",
    "                       180, 165, 165, 160, 175, 180, 185, 175, 175, 165, 180, 175, 160]"
   ]
  },
  {
   "cell_type": "markdown",
   "id": "a4477565",
   "metadata": {},
   "source": [
    "Areas affected by each hurricane"
   ]
  },
  {
   "cell_type": "code",
   "execution_count": null,
   "id": "8896ebd5",
   "metadata": {},
   "outputs": [],
   "source": [
    "areas_affected = [['Central America', 'Mexico', 'Cuba', 'Florida', 'The Bahamas'], \n",
    "                  ['Lesser Antilles', 'The Bahamas', 'United States East Coast', 'Atlantic Canada'], \n",
    "                  ['The Bahamas', 'Northeastern United States'], ['Lesser Antilles', 'Jamaica', 'Cayman Islands', 'Cuba', 'The Bahamas', 'Bermuda'],\n",
    "                  ['The Bahamas', 'Cuba', 'Florida', 'Texas', 'Tamaulipas'], ['Jamaica', 'Yucatn Peninsula'], \n",
    "                  ['The Bahamas', 'Florida', 'Georgia', 'The Carolinas', 'Virginia'], \n",
    "                  ['Southeastern United States', 'Northeastern United States', 'Southwestern Quebec'],\n",
    "                  ['Bermuda', 'New England', 'Atlantic Canada'], ['Lesser Antilles', 'Central America'], ['Texas', 'Louisiana', 'Midwestern United States'], \n",
    "                  ['Central America'], ['The Caribbean', 'Mexico', 'Texas'], ['Cuba', 'United States Gulf Coast'], \n",
    "                  ['The Caribbean', 'Central America', 'Mexico', 'United States Gulf Coast'], ['Mexico'], \n",
    "                  ['The Caribbean', 'United States East coast'], ['The Caribbean', 'Yucatn Peninsula', 'Mexico', 'South Texas'], \n",
    "                  ['Jamaica', 'Venezuela', 'Central America', 'Hispaniola', 'Mexico'], ['The Caribbean', 'United States East Coast'],\n",
    "                  ['The Bahamas', 'Florida', 'United States Gulf Coast'], ['Central America', 'Yucatn Peninsula', 'South Florida'], \n",
    "                  ['Greater Antilles', 'Bahamas', 'Eastern United States', 'Ontario'], ['The Caribbean', 'Venezuela', 'United States Gulf Coast'],\n",
    "                  ['Windward Islands', 'Jamaica', 'Mexico', 'Texas'], ['Bahamas', 'United States Gulf Coast'], ['Cuba', 'United States Gulf Coast'], \n",
    "                  ['Greater Antilles', 'Central America', 'Florida'], ['The Caribbean', 'Central America'], ['Nicaragua', 'Honduras'],\n",
    "                  ['Antilles', 'Venezuela', 'Colombia', 'United States East Coast', 'Atlantic Canada'], \n",
    "                  ['Cape Verde', 'The Caribbean', 'British Virgin Islands', 'U.S. Virgin Islands', 'Cuba', 'Florida'],\n",
    "                  ['Lesser Antilles', 'Virgin Islands', 'Puerto Rico', 'Dominican Republic', 'Turks and Caicos Islands'], \n",
    "                  ['Central America', 'United States Gulf Coast (especially Florida Panhandle)']]"
   ]
  },
  {
   "cell_type": "markdown",
   "id": "1d23b3f5",
   "metadata": {},
   "source": [
    "Damages caused in USD (M = millions, B= billions)"
   ]
  },
  {
   "cell_type": "code",
   "execution_count": null,
   "id": "614e7cd7",
   "metadata": {},
   "outputs": [],
   "source": [
    "damages = ['Damages not recorded', '100M', 'Damages not recorded', '40M', '27.9M', '5M', 'Damages not recorded', '306M', '2M',\n",
    "           '65.8M', '326M', '60.3M', '208M', '1.42B', '25.4M', 'Damages not recorded', '1.54B', '1.24B', '7.1B', '10B', '26.5B',\n",
    "           '6.2B', '5.37B', '23.3B', '1.01B', '125B', '12B', '29.4B', '1.76B', '720M', '15.1B', '64.8B', '91.6B', '25.1B']"
   ]
  },
  {
   "cell_type": "markdown",
   "id": "b6480b05",
   "metadata": {},
   "source": [
    "Number of casualties"
   ]
  },
  {
   "cell_type": "code",
   "execution_count": null,
   "id": "a137baf9",
   "metadata": {},
   "outputs": [],
   "source": [
    "deaths = [90,4000,16,3103,179,184,408,682,5,1023,43,319,688,259,37,11,2068,269,318,107,65,19325,51,124,17,1836,125,87,45,133,\n",
    "          603,138,3057,74]"
   ]
  },
  {
   "cell_type": "markdown",
   "id": "11522028",
   "metadata": {},
   "source": [
    "Write a function that returns a new list of updated damages where the recorded data is converted to float values and the missing data is retained as \"Damages not recorded\"."
   ]
  },
  {
   "cell_type": "code",
   "execution_count": null,
   "id": "3fc3b408",
   "metadata": {},
   "outputs": [],
   "source": [
    "def convert_damages(damages):\n",
    "\n",
    "    conversion = {\"M\": 1000000,\n",
    "              \"B\": 1000000000}\n",
    "\n",
    "    converted_damages = []\n",
    "\n",
    "    for value in damages:\n",
    "        if value == \"Damages not recorded\":\n",
    "            converted_damages.append(value)\n",
    "        if value[-1] == \"M\":\n",
    "            converted_damages.append(float(value.strip(\"M\")) * conversion[\"M\"])\n",
    "        if value[-1] == \"B\":\n",
    "            converted_damages.append(float(value.strip(\"B\")) * conversion[\"B\"])  \n",
    "\n",
    "    return(converted_damages)\n"
   ]
  },
  {
   "cell_type": "markdown",
   "id": "717d3c1f",
   "metadata": {},
   "source": [
    "Test your function with the data stored in damages."
   ]
  },
  {
   "cell_type": "code",
   "execution_count": null,
   "id": "659e1bb5",
   "metadata": {},
   "outputs": [],
   "source": [
    "updated_damages = convert_damages(damages)\n",
    "print(updated_damages)"
   ]
  },
  {
   "cell_type": "markdown",
   "id": "e84ab04d",
   "metadata": {},
   "source": [
    "Write a function that constructs a dictionary made out of the lists, where the keys of the dictionary are the names of the hurricanes, and the values are dictionaries themselves containing a key for each piece of data about the hurricane."
   ]
  },
  {
   "cell_type": "code",
   "execution_count": null,
   "id": "9ee48e1a",
   "metadata": {},
   "outputs": [],
   "source": [
    "def create_dict(names, months, years, max_sustained_winds, areas_affected, updated_damages, deaths):\n",
    "\n",
    "    hurricanes = {}\n",
    "\n",
    "    for i in range(len(names)):\n",
    "        hurricanes[names[i]] = {\"Name\" : names[i],\n",
    "                                \"Month\" : months[i],\n",
    "                                \"Year\" : years[i],\n",
    "                                \"Max Sustained Wind\" : max_sustained_winds[i],\n",
    "                                \"Area Affected\" : areas_affected[i],\n",
    "                                \"Damage\" : updated_damages[i],\n",
    "                                \"Deaths\" : deaths[i]}\n",
    "  \n",
    "    return hurricanes"
   ]
  },
  {
   "cell_type": "markdown",
   "id": "d5789b6a",
   "metadata": {},
   "source": [
    "Test your function on the lists of data provided."
   ]
  },
  {
   "cell_type": "code",
   "execution_count": null,
   "id": "79690857",
   "metadata": {},
   "outputs": [],
   "source": [
    "hurr_dict = create_dict(names, months, years, max_sustained_winds, areas_affected, updated_damages, deaths)\n",
    "print(hurr_dict)"
   ]
  },
  {
   "cell_type": "markdown",
   "id": "8887bd2b",
   "metadata": {},
   "source": [
    "Write a function that converts the current dictionary of hurricanes to a new dictionary, where the keys are years and the values are lists containing a dictionary for each hurricane that occurred in that year."
   ]
  },
  {
   "cell_type": "code",
   "execution_count": null,
   "id": "3898c96a",
   "metadata": {},
   "outputs": [],
   "source": [
    "def create_dict_year(hurr_dict):\n",
    "    \n",
    "    new_dict = {}\n",
    "  \n",
    "    for i in hurr_dict:\n",
    "        current_year = hurr_dict[i][\"Year\"]\n",
    "        current_cane = hurr_dict[i]\n",
    "        if current_year in new_dict:\n",
    "            new_dict[current_year].append(current_cane)\n",
    "        else:\n",
    "            new_dict[current_year] = [current_cane]\n",
    "  \n",
    "    return new_dict"
   ]
  },
  {
   "cell_type": "markdown",
   "id": "be033752",
   "metadata": {},
   "source": [
    "Test your function on your hurricane dictionary."
   ]
  },
  {
   "cell_type": "code",
   "execution_count": null,
   "id": "ca5aa911",
   "metadata": {},
   "outputs": [],
   "source": [
    "print(create_dict_year(hurr_dict))"
   ]
  },
  {
   "cell_type": "markdown",
   "id": "8aacbc87",
   "metadata": {},
   "source": [
    "Write a function that counts how often each area is listed as an affected area of a hurricane. Store and return the results in a dictionary where the keys are the affected areas and the values are counts of how many times the areas were affected."
   ]
  },
  {
   "cell_type": "code",
   "execution_count": null,
   "id": "5669aa68",
   "metadata": {},
   "outputs": [],
   "source": [
    "def count_areas(hurr_dict):\n",
    "   \n",
    "    area_dict = {}\n",
    "  \n",
    "    for hurricane in hurr_dict:\n",
    "        for area in hurr_dict[hurricane][\"Area Affected\"]:\n",
    "            if area in area_dict:\n",
    "                count = count + 1\n",
    "                area_dict[area] = count\n",
    "            else:\n",
    "                count = 1\n",
    "                area_dict[area] = count\n",
    "        \n",
    "    return area_dict"
   ]
  },
  {
   "cell_type": "markdown",
   "id": "b89cb100",
   "metadata": {},
   "source": [
    "Test your function on your hurricane dictionary."
   ]
  },
  {
   "cell_type": "code",
   "execution_count": null,
   "id": "131a9b71",
   "metadata": {},
   "outputs": [],
   "source": [
    "affected_areas = count_areas(hurr_dict)\n",
    "print(count_areas(hurr_dict))"
   ]
  },
  {
   "cell_type": "markdown",
   "id": "3b2b4602",
   "metadata": {},
   "source": [
    "Write a function that finds the area affected by the most hurricanes, and how often it was hit."
   ]
  },
  {
   "cell_type": "code",
   "execution_count": null,
   "id": "c26539d3",
   "metadata": {},
   "outputs": [],
   "source": [
    "def find_most_affected_area(affected_areas):\n",
    "  \n",
    "    max_area = \"\"\n",
    "    max_area_count = 0\n",
    "  \n",
    "    for area in affected_areas:\n",
    "        if affected_areas[area] > max_area_count:\n",
    "            max_area = area\n",
    "            max_area_count = affected_areas[area]\n",
    "  \n",
    "    return \"The most affected area is {} which was hit {} times\".format(max_area, max_area_count)"
   ]
  },
  {
   "cell_type": "markdown",
   "id": "dad166c7",
   "metadata": {},
   "source": [
    "Test your function on your affected area dictionary."
   ]
  },
  {
   "cell_type": "code",
   "execution_count": null,
   "id": "7ba4ffdc",
   "metadata": {},
   "outputs": [],
   "source": [
    "print(find_most_affected_area(affected_areas))"
   ]
  },
  {
   "cell_type": "markdown",
   "id": "6b7265ef",
   "metadata": {},
   "source": [
    "Write a function that finds the hurricane that caused the greatest number of deaths, and how many deaths it caused."
   ]
  },
  {
   "cell_type": "code",
   "execution_count": null,
   "id": "689f609e",
   "metadata": {},
   "outputs": [],
   "source": [
    "def find_deadliest_hurr(hurr_dict):\n",
    "    \n",
    "    max_mortality_cane = \"\"\n",
    "    max_mortality = 0.0\n",
    "    \n",
    "    for hurricane in hurr_dict:\n",
    "        if hurr_dict[hurricane][\"Deaths\"] > max_mortality:\n",
    "            max_mortality_cane = hurricane\n",
    "            max_mortality = hurr_dict[hurricane][\"Deaths\"]\n",
    "    \n",
    "    return \"The deadliest hurricane is {} which caused {} casualties\".format(max_mortality_cane, max_mortality)"
   ]
  },
  {
   "cell_type": "markdown",
   "id": "c304a734",
   "metadata": {},
   "source": [
    "Test your function on your hurricane dictionary."
   ]
  },
  {
   "cell_type": "code",
   "execution_count": null,
   "id": "8f623abf",
   "metadata": {},
   "outputs": [],
   "source": [
    "print(find_deadliest_hurr(hurr_dict))"
   ]
  },
  {
   "cell_type": "markdown",
   "id": "45c778c7",
   "metadata": {},
   "source": [
    "Write a function that rates hurricanes on a mortality scale according to the following ratings, where the key is the rating and the value is the upper bound of deaths for that rating.\n",
    "\n",
    "mortality_scale = {0: 0,\n",
    "                   1: 100,\n",
    "                   2: 500,\n",
    "                   3: 1000,\n",
    "                   4: 10000}\n",
    "                   \n",
    "Store the hurricanes in a new dictionary where the keys are mortality ratings and the values are lists containing a dictionary for each hurricane that falls into that mortality rating."
   ]
  },
  {
   "cell_type": "code",
   "execution_count": null,
   "id": "a46e4b5f",
   "metadata": {},
   "outputs": [],
   "source": [
    "def mortality_rating(hurr_dict):\n",
    "  \n",
    "    hurricanes_by_mortality = {0:[],1:[],2:[],3:[],4:[],5:[]}\n",
    "    \n",
    "    mortality_scale = {0: 0,\n",
    "                   1: 100,\n",
    "                   2: 500,\n",
    "                   3: 1000,\n",
    "                   4: 10000}\n",
    "  \n",
    "    for hurricane in hurr_dict:\n",
    "        casualties = hurr_dict[hurricane][\"Deaths\"]\n",
    "        if casualties == mortality_scale[0]:\n",
    "            hurricanes_by_mortality[0].append(hurricane)\n",
    "        elif mortality_scale[0] < casualties <= mortality_scale[1]:\n",
    "            hurricanes_by_mortality[1].append(hurricane)\n",
    "        elif mortality_scale[1] < casualties <= mortality_scale[2]:\n",
    "            hurricanes_by_mortality[2].append(hurricane)\n",
    "        elif mortality_scale[2] < casualties <= mortality_scale[3]:\n",
    "            hurricanes_by_mortality[3].append(hurricane)\n",
    "        elif mortality_scale[3] < casualties <= mortality_scale[4]:\n",
    "            hurricanes_by_mortality[4].append(hurricane)\n",
    "        else:\n",
    "            hurricanes_by_mortality[5].append(hurricane)\n",
    "  \n",
    "    return hurricanes_by_mortality"
   ]
  },
  {
   "cell_type": "markdown",
   "id": "02c47e8f",
   "metadata": {},
   "source": [
    "Test your function on your hurricane dictionary."
   ]
  },
  {
   "cell_type": "code",
   "execution_count": null,
   "id": "e9496e2f",
   "metadata": {},
   "outputs": [],
   "source": [
    "print(mortality_rating(hurr_dict))"
   ]
  },
  {
   "cell_type": "markdown",
   "id": "f9939534",
   "metadata": {},
   "source": [
    "Write a function that finds the hurricane that caused the greatest damage, and how costly it was."
   ]
  },
  {
   "cell_type": "code",
   "execution_count": null,
   "id": "6bf35b16",
   "metadata": {},
   "outputs": [],
   "source": [
    "def max_damage(hurr_dict):\n",
    "  \n",
    "    max_damage_cane = \"\"\n",
    "    max_damage = 0\n",
    "    \n",
    "    for hurricane in hurr_dict:\n",
    "        if hurr_dict[hurricane][\"Damage\"] == \"Damages not recorded\":\n",
    "            continue\n",
    "        elif hurr_dict[hurricane][\"Damage\"] > max_damage:\n",
    "            max_damage_cane = hurricane\n",
    "            max_damage = hurr_dict[hurricane][\"Damage\"]\n",
    "  \n",
    "    return \"The most devastating hurricane is {} which caused damage for {} dollars\".format(max_damage_cane, max_damage)\n"
   ]
  },
  {
   "cell_type": "markdown",
   "id": "fabfa8db",
   "metadata": {},
   "source": [
    "Test your function on your hurricane dictionary."
   ]
  },
  {
   "cell_type": "code",
   "execution_count": null,
   "id": "d92e0a88",
   "metadata": {},
   "outputs": [],
   "source": [
    "print(max_damage(hurr_dict))"
   ]
  },
  {
   "cell_type": "markdown",
   "id": "2fc1d514",
   "metadata": {},
   "source": [
    "Write a function that rates hurricanes on a damage scale according to the following ratings, where the key is the rating and the value is the upper bound of damage for that rating.\n",
    "\n",
    "damage_scale = {0: 0,\n",
    "                1: 100000000,\n",
    "                2: 1000000000,\n",
    "                3: 10000000000,\n",
    "                4: 50000000000}\n",
    "                \n",
    "Store the hurricanes in a new dictionary where the keys are damage ratings and the values are lists containing a dictionary for each hurricane that falls into that damage rating."
   ]
  },
  {
   "cell_type": "code",
   "execution_count": null,
   "id": "a7598b2e",
   "metadata": {},
   "outputs": [],
   "source": [
    "def damage_rating(hurr_dict):\n",
    "  \n",
    "    hurricanes_by_damage = {0:[],1:[],2:[],3:[],4:[],5:[]}\n",
    "    damage_scale = {0: 0,\n",
    "                1: 100000000,\n",
    "                2: 1000000000,\n",
    "                3: 10000000000,\n",
    "                4: 50000000000}\n",
    "  \n",
    "    for hurricane in hurr_dict:\n",
    "        damage = hurr_dict[hurricane][\"Damage\"]\n",
    "        if damage == \"Damages not recorded\":\n",
    "            continue\n",
    "        elif damage == damage_scale[0]:\n",
    "            hurricanes_by_damage[0].append(hurricane)\n",
    "        elif damage_scale[0] < damage <= damage_scale[1]:\n",
    "            hurricanes_by_damage[1].append(hurricane)\n",
    "        elif damage_scale[1] < damage <= damage_scale[2]:\n",
    "            hurricanes_by_damage[2].append(hurricane)\n",
    "        elif damage_scale[2] < damage <= damage_scale[3]:\n",
    "            hurricanes_by_damage[3].append(hurricane)\n",
    "        elif damage_scale[3] < damage <= damage_scale[4]:\n",
    "            hurricanes_by_damage[4].append(hurricane)\n",
    "        else:\n",
    "            hurricanes_by_damage[5].append(hurricane)\n",
    "  \n",
    "    return hurricanes_by_damage"
   ]
  },
  {
   "cell_type": "markdown",
   "id": "9fe0cf73",
   "metadata": {},
   "source": [
    "Test your function on your hurricane dictionary."
   ]
  },
  {
   "cell_type": "code",
   "execution_count": null,
   "id": "5c770f1d",
   "metadata": {},
   "outputs": [],
   "source": [
    "print(damage_rating(hurr_dict))"
   ]
  }
 ],
 "metadata": {
  "celltoolbar": "Raw Cell Format",
  "kernelspec": {
   "display_name": "Python 3 (ipykernel)",
   "language": "python",
   "name": "python3"
  },
  "language_info": {
   "codemirror_mode": {
    "name": "ipython",
    "version": 3
   },
   "file_extension": ".py",
   "mimetype": "text/x-python",
   "name": "python",
   "nbconvert_exporter": "python",
   "pygments_lexer": "ipython3",
   "version": "3.9.7"
  }
 },
 "nbformat": 4,
 "nbformat_minor": 5
}
